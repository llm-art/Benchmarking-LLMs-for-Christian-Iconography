{
 "cells": [
  {
   "cell_type": "code",
   "execution_count": 20,
   "metadata": {},
   "outputs": [
    {
     "name": "stdout",
     "output_type": "stream",
     "text": [
      "Downloading the dataset...\n"
     ]
    },
    {
     "name": "stderr",
     "output_type": "stream",
     "text": [
      "100%|██████████| 898M/898M [00:30<00:00, 29.3MiB/s] \n"
     ]
    },
    {
     "name": "stdout",
     "output_type": "stream",
     "text": [
      "Download and extraction complete.\n"
     ]
    }
   ],
   "source": [
    "import requests\n",
    "import zipfile\n",
    "import io\n",
    "import os\n",
    "from tqdm import tqdm\n",
    "\n",
    "dataset_name = \"Portrait_Painting\"\n",
    "dataset_path = os.path.join(os.getcwd(), dataset_name)\n",
    "\n",
    "# URL of the dataset\n",
    "url = \"https://prod-dcd-datasets-cache-zipfiles.s3.eu-west-1.amazonaws.com/289kxpnp57-1.zip\"\n",
    "\n",
    "if os.path.exists(dataset_name):\n",
    "  print(\"The dataset is already downloaded.\")\n",
    "  \n",
    "else:\n",
    "  print(\"Downloading the dataset...\")\n",
    "\n",
    "  \n",
    "  response = requests.get(url, stream=True)\n",
    "  if response.status_code == 200:\n",
    "    total_size = int(response.headers.get('content-length', 0))\n",
    "    block_size = 1024\n",
    "    t = tqdm(total=total_size, unit='iB', unit_scale=True)\n",
    "    with io.BytesIO() as file_buffer:\n",
    "      for data in response.iter_content(block_size):\n",
    "        t.update(len(data))\n",
    "        file_buffer.write(data)\n",
    "      t.close()\n",
    "      file_buffer.seek(0)\n",
    "      os.makedirs(dataset_name, exist_ok=True)\n",
    "      with zipfile.ZipFile(file_buffer) as z:\n",
    "        z.extractall(dataset_name)\n",
    "    print(\"Download and extraction complete.\")\n",
    "  else:\n",
    "    print(\"Failed to download the dataset.\")"
   ]
  },
  {
   "cell_type": "code",
   "execution_count": 21,
   "metadata": {},
   "outputs": [
    {
     "name": "stdout",
     "output_type": "stream",
     "text": [
      "CSV file created at /home/ubuntu/gspinaci/LLM-test/dataset/Portrait_Painting/art_movements.csv\n"
     ]
    }
   ],
   "source": [
    "import pandas as pd\n",
    "import os\n",
    "\n",
    "org_img_path = os.path.join(dataset_path, 'orgImg')\n",
    "dataset_data_path = os.path.join(os.getcwd(), f'{dataset_name}-data')\n",
    "os.makedirs(dataset_data_path, exist_ok=True)\n",
    "\n",
    "# List to store the data\n",
    "data = []\n",
    "\n",
    "# Traverse the directories and files\n",
    "for movement in os.listdir(org_img_path):\n",
    "  movement_path = os.path.join(org_img_path, movement)\n",
    "  if os.path.isdir(movement_path):\n",
    "    for filename in os.listdir(movement_path):\n",
    "      if filename.endswith('.jpg'):\n",
    "        data.append([filename[:-4], movement])\n",
    "\n",
    "# Create a DataFrame from the data\n",
    "df = pd.DataFrame(data, columns=['filename', 'art movement'])\n",
    "\n",
    "# Define the CSV file path\n",
    "csv_file_path = os.path.join(dataset_path, 'art_movements.csv')\n",
    "\n",
    "# Write the DataFrame to the CSV file\n",
    "df.to_csv(csv_file_path, index=False)\n",
    "\n",
    "print(f\"CSV file created at {csv_file_path}\")"
   ]
  },
  {
   "cell_type": "code",
   "execution_count": 22,
   "metadata": {},
   "outputs": [
    {
     "name": "stdout",
     "output_type": "stream",
     "text": [
      "All images have been moved to /home/ubuntu/gspinaci/LLM-test/dataset/Portrait_Painting/JPEGimages\n"
     ]
    }
   ],
   "source": [
    "import shutil\n",
    "\n",
    "# Define the destination directory\n",
    "jpeg_images_path = os.path.join(dataset_path, 'JPEGimages')\n",
    "os.makedirs(jpeg_images_path, exist_ok=True)\n",
    "\n",
    "# Traverse the directories and move the images\n",
    "for movement in os.listdir(org_img_path):\n",
    "  movement_path = os.path.join(org_img_path, movement)\n",
    "  if os.path.isdir(movement_path):\n",
    "    for filename in os.listdir(movement_path):\n",
    "      if filename.endswith('.jpg'):\n",
    "        src_path = os.path.join(movement_path, filename)\n",
    "        dst_path = os.path.join(jpeg_images_path, filename)\n",
    "        shutil.move(src_path, dst_path)\n",
    "\n",
    "print(f\"All images have been moved to {jpeg_images_path}\")"
   ]
  },
  {
   "cell_type": "code",
   "execution_count": 27,
   "metadata": {},
   "outputs": [
    {
     "name": "stdout",
     "output_type": "stream",
     "text": [
      "art movement\n",
      "impress            200\n",
      "postImpress        170\n",
      "highRenaiss        162\n",
      "NorthernRenaiss    147\n",
      "Ukiyo              127\n",
      "rococo             116\n",
      "Name: count, dtype: int64\n",
      "\n",
      "Total number of images: 922\n"
     ]
    }
   ],
   "source": [
    "# Count the number of images for each art movement\n",
    "art_movement_counts = df['art movement'].value_counts()\n",
    "\n",
    "print(art_movement_counts)\n",
    "\n",
    "# Count the total number of images\n",
    "total_images = art_movement_counts.sum()\n",
    "\n",
    "print(f\"\\nTotal number of images: {total_images}\")"
   ]
  }
 ],
 "metadata": {
  "kernelspec": {
   "display_name": "venv",
   "language": "python",
   "name": "python3"
  },
  "language_info": {
   "codemirror_mode": {
    "name": "ipython",
    "version": 3
   },
   "file_extension": ".py",
   "mimetype": "text/x-python",
   "name": "python",
   "nbconvert_exporter": "python",
   "pygments_lexer": "ipython3",
   "version": "3.10.12"
  }
 },
 "nbformat": 4,
 "nbformat_minor": 2
}
