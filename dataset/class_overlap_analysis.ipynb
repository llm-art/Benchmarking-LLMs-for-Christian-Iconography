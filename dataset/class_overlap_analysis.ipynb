{
 "cells": [
  {
   "cell_type": "markdown",
   "metadata": {},
   "source": [
    "# Class Overlap Analysis: ArtDL, ICONCLASS, and Wikidata Datasets\n",
    "\n",
    "This notebook analyzes the overlap of ICONCLASS IDs between three art datasets, focusing on understanding which classes overlap with ArtDL.\n",
    "\n",
    "## Datasets:\n",
    "- **ArtDL**: Art classification dataset\n",
    "- **ICONCLASS**: Iconographic classification system\n",
    "- **Wikidata**: Knowledge base with art-related entries"
   ]
  },
  {
   "cell_type": "code",
   "execution_count": 6,
   "metadata": {},
   "outputs": [],
   "source": [
    "import pandas as pd\n",
    "import matplotlib.pyplot as plt\n",
    "from matplotlib_venn import venn3, venn3_circles\n",
    "import warnings\n",
    "warnings.filterwarnings('ignore')\n",
    "\n",
    "# Set style for better visualizations\n",
    "plt.rcParams['figure.figsize'] = (10, 8)"
   ]
  },
  {
   "cell_type": "markdown",
   "metadata": {},
   "source": [
    "## 1. Data Loading and ICONCLASS ID Extraction"
   ]
  },
  {
   "cell_type": "code",
   "execution_count": 7,
   "metadata": {},
   "outputs": [
    {
     "name": "stdout",
     "output_type": "stream",
     "text": [
      "Dataset Sizes:\n",
      "ArtDL: 10 classes\n",
      "ICONCLASS: 10 classes\n",
      "Wikidata: 10 classes\n"
     ]
    }
   ],
   "source": [
    "# Load the three datasets\n",
    "artdl_df = pd.read_csv('ArtDL-data/classes.csv')\n",
    "iconclass_df = pd.read_csv('ICONCLASS-data/classes.csv')\n",
    "wikidata_df = pd.read_csv('wikidata-data/classes.csv')\n",
    "\n",
    "print(\"Dataset Sizes:\")\n",
    "print(f\"ArtDL: {len(artdl_df)} classes\")\n",
    "print(f\"ICONCLASS: {len(iconclass_df)} classes\")\n",
    "print(f\"Wikidata: {len(wikidata_df)} classes\")"
   ]
  },
  {
   "cell_type": "markdown",
   "metadata": {},
   "source": [
    "## 2. ICONCLASS ID Overlap Analysis"
   ]
  },
  {
   "cell_type": "code",
   "execution_count": 8,
   "metadata": {},
   "outputs": [
    {
     "name": "stdout",
     "output_type": "stream",
     "text": [
      "=== ArtDL OVERLAP ANALYSIS (ICONCLASS IDs) ===\n",
      "\n",
      "Total ArtDL classes: 10\n",
      "ArtDL classes with any overlap: 7 (70.0%)\n",
      "ArtDL classes unique to ArtDL: 3 (30.0%)\n"
     ]
    }
   ],
   "source": [
    "# Extract ICONCLASS IDs from each dataset\n",
    "artdl_ids = set(artdl_df['ID'].tolist())\n",
    "iconclass_ids = set(iconclass_df['ID'].tolist())\n",
    "wikidata_ids = set(wikidata_df['ID'].tolist())\n",
    "\n",
    "# Calculate overlaps with ArtDL as the focus\n",
    "artdl_iconclass_overlap = artdl_ids.intersection(iconclass_ids)\n",
    "artdl_wikidata_overlap = artdl_ids.intersection(wikidata_ids)\n",
    "all_three_overlap = artdl_ids.intersection(iconclass_ids).intersection(wikidata_ids)\n",
    "\n",
    "# Classes unique to ArtDL\n",
    "artdl_unique = artdl_ids - iconclass_ids - wikidata_ids\n",
    "\n",
    "# Classes in ArtDL that overlap with at least one other dataset\n",
    "artdl_with_overlap = artdl_ids.intersection(iconclass_ids.union(wikidata_ids))\n",
    "\n",
    "print(\"=== ArtDL OVERLAP ANALYSIS (ICONCLASS IDs) ===\")\n",
    "print(f\"\\nTotal ArtDL classes: {len(artdl_ids)}\")\n",
    "print(f\"ArtDL classes with any overlap: {len(artdl_with_overlap)} ({len(artdl_with_overlap)/len(artdl_ids)*100:.1f}%)\")\n",
    "print(f\"ArtDL classes unique to ArtDL: {len(artdl_unique)} ({len(artdl_unique)/len(artdl_ids)*100:.1f}%)\")"
   ]
  },
  {
   "cell_type": "markdown",
   "metadata": {},
   "source": [
    "## 3. Key Findings: ArtDL Overlap Details"
   ]
  },
  {
   "cell_type": "code",
   "execution_count": 9,
   "metadata": {},
   "outputs": [
    {
     "name": "stdout",
     "output_type": "stream",
     "text": [
      "=== ArtDL OVERLAP WITH OTHER DATASETS ===\n",
      "\n",
      "1. ArtDL ∩ ICONCLASS: 5 classes (50.0% of ArtDL)\n",
      "   ICONCLASS IDs:\n",
      "   - 11H(FRANCIS): Francis of Assisi\n",
      "   - 11H(JEROME): Jerome\n",
      "   - 11H(PAUL): Paul\n",
      "   - 11H(PETER): Peter\n",
      "   - 11HH(MARY MAGDALENE): Mary Magdalene\n",
      "\n",
      "2. ArtDL ∩ Wikidata: 6 classes (60.0% of ArtDL)\n",
      "   ICONCLASS IDs:\n",
      "   - 11H(FRANCIS): Francis of Assisi\n",
      "   - 11H(JEROME): Jerome\n",
      "   - 11H(JOHN THE BAPTIST): John the Baptist\n",
      "   - 11H(PETER): Peter\n",
      "   - 11H(SEBASTIAN): Saint Sebastian\n",
      "   - 11HH(MARY MAGDALENE): Mary Magdalene\n",
      "\n",
      "3. ArtDL ∩ ICONCLASS ∩ Wikidata: 4 classes (40.0% of ArtDL)\n",
      "   ICONCLASS IDs (present in all three datasets):\n",
      "   - 11H(FRANCIS): Francis of Assisi\n",
      "   - 11H(JEROME): Jerome\n",
      "   - 11H(PETER): Peter\n",
      "   - 11HH(MARY MAGDALENE): Mary Magdalene\n",
      "\n",
      "4. ArtDL Unique Classes: 3 classes (30.0% of ArtDL)\n",
      "   ICONCLASS IDs (only in ArtDL):\n",
      "   - 11F(MARY): Virgin Mary\n",
      "   - 11H(ANTONY OF PADUA): Antony of Padua\n",
      "   - 11H(DOMINIC): Saint Dominic\n"
     ]
    }
   ],
   "source": [
    "print(\"=== ArtDL OVERLAP WITH OTHER DATASETS ===\")\n",
    "\n",
    "print(f\"\\n1. ArtDL ∩ ICONCLASS: {len(artdl_iconclass_overlap)} classes ({len(artdl_iconclass_overlap)/len(artdl_ids)*100:.1f}% of ArtDL)\")\n",
    "if artdl_iconclass_overlap:\n",
    "    print(\"   ICONCLASS IDs:\")\n",
    "    for iconclass_id in sorted(artdl_iconclass_overlap):\n",
    "        label = artdl_df[artdl_df['ID'] == iconclass_id].iloc[0]['Label']\n",
    "        print(f\"   - {iconclass_id}: {label}\")\n",
    "\n",
    "print(f\"\\n2. ArtDL ∩ Wikidata: {len(artdl_wikidata_overlap)} classes ({len(artdl_wikidata_overlap)/len(artdl_ids)*100:.1f}% of ArtDL)\")\n",
    "if artdl_wikidata_overlap:\n",
    "    print(\"   ICONCLASS IDs:\")\n",
    "    for iconclass_id in sorted(artdl_wikidata_overlap):\n",
    "        label = artdl_df[artdl_df['ID'] == iconclass_id].iloc[0]['Label']\n",
    "        print(f\"   - {iconclass_id}: {label}\")\n",
    "\n",
    "print(f\"\\n3. ArtDL ∩ ICONCLASS ∩ Wikidata: {len(all_three_overlap)} classes ({len(all_three_overlap)/len(artdl_ids)*100:.1f}% of ArtDL)\")\n",
    "if all_three_overlap:\n",
    "    print(\"   ICONCLASS IDs (present in all three datasets):\")\n",
    "    for iconclass_id in sorted(all_three_overlap):\n",
    "        label = artdl_df[artdl_df['ID'] == iconclass_id].iloc[0]['Label']\n",
    "        print(f\"   - {iconclass_id}: {label}\")\n",
    "\n",
    "print(f\"\\n4. ArtDL Unique Classes: {len(artdl_unique)} classes ({len(artdl_unique)/len(artdl_ids)*100:.1f}% of ArtDL)\")\n",
    "if artdl_unique:\n",
    "    print(\"   ICONCLASS IDs (only in ArtDL):\")\n",
    "    for iconclass_id in sorted(artdl_unique):\n",
    "        label = artdl_df[artdl_df['ID'] == iconclass_id].iloc[0]['Label']\n",
    "        print(f\"   - {iconclass_id}: {label}\")"
   ]
  },
  {
   "cell_type": "markdown",
   "metadata": {},
   "source": [
    "## 4. Venn Diagram: ICONCLASS ID Overlap Visualization"
   ]
  },
  {
   "cell_type": "code",
   "execution_count": 10,
   "metadata": {},
   "outputs": [
    {
     "ename": "NameError",
     "evalue": "name 'artdl_iconclass_only' is not defined",
     "output_type": "error",
     "traceback": [
      "\u001b[0;31m---------------------------------------------------------------------------\u001b[0m",
      "\u001b[0;31mNameError\u001b[0m                                 Traceback (most recent call last)",
      "Cell \u001b[0;32mIn[10], line 11\u001b[0m\n\u001b[1;32m      4\u001b[0m iconclass_wikidata_only \u001b[38;5;241m=\u001b[39m iconclass_ids\u001b[38;5;241m.\u001b[39mintersection(wikidata_ids) \u001b[38;5;241m-\u001b[39m artdl_ids\n\u001b[1;32m      6\u001b[0m \u001b[38;5;66;03m# Create Venn diagram data\u001b[39;00m\n\u001b[1;32m      7\u001b[0m venn_data \u001b[38;5;241m=\u001b[39m {\n\u001b[1;32m      8\u001b[0m     \u001b[38;5;124m'\u001b[39m\u001b[38;5;124m100\u001b[39m\u001b[38;5;124m'\u001b[39m: \u001b[38;5;28mlen\u001b[39m(artdl_unique),  \u001b[38;5;66;03m# ArtDL only\u001b[39;00m\n\u001b[1;32m      9\u001b[0m     \u001b[38;5;124m'\u001b[39m\u001b[38;5;124m010\u001b[39m\u001b[38;5;124m'\u001b[39m: \u001b[38;5;28mlen\u001b[39m(iconclass_unique),  \u001b[38;5;66;03m# ICONCLASS only\u001b[39;00m\n\u001b[1;32m     10\u001b[0m     \u001b[38;5;124m'\u001b[39m\u001b[38;5;124m001\u001b[39m\u001b[38;5;124m'\u001b[39m: \u001b[38;5;28mlen\u001b[39m(wikidata_unique),  \u001b[38;5;66;03m# Wikidata only\u001b[39;00m\n\u001b[0;32m---> 11\u001b[0m     \u001b[38;5;124m'\u001b[39m\u001b[38;5;124m110\u001b[39m\u001b[38;5;124m'\u001b[39m: \u001b[38;5;28mlen\u001b[39m(\u001b[43martdl_iconclass_only\u001b[49m),  \u001b[38;5;66;03m# ArtDL & ICONCLASS only\u001b[39;00m\n\u001b[1;32m     12\u001b[0m     \u001b[38;5;124m'\u001b[39m\u001b[38;5;124m101\u001b[39m\u001b[38;5;124m'\u001b[39m: \u001b[38;5;28mlen\u001b[39m(artdl_wikidata_only),  \u001b[38;5;66;03m# ArtDL & Wikidata only\u001b[39;00m\n\u001b[1;32m     13\u001b[0m     \u001b[38;5;124m'\u001b[39m\u001b[38;5;124m011\u001b[39m\u001b[38;5;124m'\u001b[39m: \u001b[38;5;28mlen\u001b[39m(iconclass_wikidata_only),  \u001b[38;5;66;03m# ICONCLASS & Wikidata only\u001b[39;00m\n\u001b[1;32m     14\u001b[0m     \u001b[38;5;124m'\u001b[39m\u001b[38;5;124m111\u001b[39m\u001b[38;5;124m'\u001b[39m: \u001b[38;5;28mlen\u001b[39m(all_three_overlap)  \u001b[38;5;66;03m# All three\u001b[39;00m\n\u001b[1;32m     15\u001b[0m }\n\u001b[1;32m     17\u001b[0m \u001b[38;5;66;03m# Create the Venn diagram\u001b[39;00m\n\u001b[1;32m     18\u001b[0m plt\u001b[38;5;241m.\u001b[39mfigure(figsize\u001b[38;5;241m=\u001b[39m(\u001b[38;5;241m12\u001b[39m, \u001b[38;5;241m10\u001b[39m))\n",
      "\u001b[0;31mNameError\u001b[0m: name 'artdl_iconclass_only' is not defined"
     ]
    }
   ],
   "source": [
    "# Calculate all overlap regions for Venn diagram\n",
    "iconclass_unique = iconclass_ids - artdl_ids - wikidata_ids\n",
    "wikidata_unique = wikidata_ids - artdl_ids - iconclass_ids\n",
    "iconclass_wikidata_only = iconclass_ids.intersection(wikidata_ids) - artdl_ids\n",
    "\n",
    "# Create Venn diagram data\n",
    "venn_data = {\n",
    "    '100': len(artdl_unique),  # ArtDL only\n",
    "    '010': len(iconclass_unique),  # ICONCLASS only\n",
    "    '001': len(wikidata_unique),  # Wikidata only\n",
    "    '110': len(artdl_iconclass_only),  # ArtDL & ICONCLASS only\n",
    "    '101': len(artdl_wikidata_only),  # ArtDL & Wikidata only\n",
    "    '011': len(iconclass_wikidata_only),  # ICONCLASS & Wikidata only\n",
    "    '111': len(all_three_overlap)  # All three\n",
    "}\n",
    "\n",
    "# Create the Venn diagram\n",
    "plt.figure(figsize=(12, 10))\n",
    "venn = venn3(subsets=venn_data, set_labels=('ArtDL', 'ICONCLASS', 'Wikidata'))\n",
    "\n",
    "# Customize colors\n",
    "if venn.get_patch_by_id('100'): venn.get_patch_by_id('100').set_color('#ff9999')\n",
    "if venn.get_patch_by_id('010'): venn.get_patch_by_id('010').set_color('#66b3ff')\n",
    "if venn.get_patch_by_id('001'): venn.get_patch_by_id('001').set_color('#99ff99')\n",
    "if venn.get_patch_by_id('110'): venn.get_patch_by_id('110').set_color('#ffcc99')\n",
    "if venn.get_patch_by_id('101'): venn.get_patch_by_id('101').set_color('#ff99cc')\n",
    "if venn.get_patch_by_id('011'): venn.get_patch_by_id('011').set_color('#c2c2f0')\n",
    "if venn.get_patch_by_id('111'): venn.get_patch_by_id('111').set_color('#ffb3e6')\n",
    "\n",
    "# Add circles\n",
    "venn3_circles(subsets=venn_data, linewidth=2)\n",
    "\n",
    "plt.title('ICONCLASS ID Overlap Between ArtDL, ICONCLASS, and Wikidata Datasets', \n",
    "          fontsize=16, fontweight='bold')\n",
    "plt.tight_layout()\n",
    "plt.show()\n",
    "\n",
    "# Print Venn diagram summary\n",
    "print(\"\\n=== VENN DIAGRAM SUMMARY ===\")\n",
    "region_names = {\n",
    "    '100': 'ArtDL only',\n",
    "    '010': 'ICONCLASS only',\n",
    "    '001': 'Wikidata only',\n",
    "    '110': 'ArtDL & ICONCLASS only',\n",
    "    '101': 'ArtDL & Wikidata only',\n",
    "    '011': 'ICONCLASS & Wikidata only',\n",
    "    '111': 'All three datasets'\n",
    "}\n",
    "\n",
    "for key, value in venn_data.items():\n",
    "    if value > 0:\n",
    "        print(f\"{region_names[key]}: {value} classes\")"
   ]
  },
  {
   "cell_type": "markdown",
   "metadata": {},
   "source": [
    "## 5. Summary: ArtDL Class Distribution"
   ]
  },
  {
   "cell_type": "code",
   "execution_count": null,
   "metadata": {},
   "outputs": [
    {
     "name": "stdout",
     "output_type": "stream",
     "text": [
      "=== SUMMARY: ArtDL CLASS DISTRIBUTION BY ICONCLASS IDs ===\n",
      "\n",
      "Total ArtDL classes: 10\n",
      "\n",
      "Breakdown:\n",
      "- Classes in all three datasets: 5 (50.0%)\n",
      "- Classes shared only with ICONCLASS: 0 (0.0%)\n",
      "- Classes shared only with Wikidata: 1 (10.0%)\n",
      "- Classes unique to ArtDL: 4 (40.0%)\n",
      "\n",
      "Overall ArtDL overlap: 6/10 classes (60.0%) have overlap with other datasets\n",
      "\n",
      "ArtDL has stronger overlap with Wikidata (6 classes) than with ICONCLASS (5 classes)\n"
     ]
    }
   ],
   "source": [
    "# Calculate exclusive overlaps (not in all three)\n",
    "artdl_iconclass_only = artdl_iconclass_overlap - wikidata_ids\n",
    "artdl_wikidata_only = artdl_wikidata_overlap - iconclass_ids\n",
    "\n",
    "print(\"=== SUMMARY: ArtDL CLASS DISTRIBUTION BY ICONCLASS IDs ===\")\n",
    "print(f\"\\nTotal ArtDL classes: {len(artdl_ids)}\")\n",
    "print(f\"\\nBreakdown:\")\n",
    "print(f\"- Classes in all three datasets: {len(all_three_overlap)} ({len(all_three_overlap)/len(artdl_ids)*100:.1f}%)\")\n",
    "print(f\"- Classes shared only with ICONCLASS: {len(artdl_iconclass_only)} ({len(artdl_iconclass_only)/len(artdl_ids)*100:.1f}%)\")\n",
    "print(f\"- Classes shared only with Wikidata: {len(artdl_wikidata_only)} ({len(artdl_wikidata_only)/len(artdl_ids)*100:.1f}%)\")\n",
    "print(f\"- Classes unique to ArtDL: {len(artdl_unique)} ({len(artdl_unique)/len(artdl_ids)*100:.1f}%)\")\n",
    "\n",
    "print(f\"\\nOverall ArtDL overlap: {len(artdl_with_overlap)}/{len(artdl_ids)} classes ({len(artdl_with_overlap)/len(artdl_ids)*100:.1f}%) have overlap with other datasets\")\n",
    "\n",
    "if len(artdl_wikidata_overlap) >= len(artdl_iconclass_overlap):\n",
    "    print(f\"\\nArtDL has stronger overlap with Wikidata ({len(artdl_wikidata_overlap)} classes) than with ICONCLASS ({len(artdl_iconclass_overlap)} classes)\")\n",
    "else:\n",
    "    print(f\"\\nArtDL has stronger overlap with ICONCLASS ({len(artdl_iconclass_overlap)} classes) than with Wikidata ({len(artdl_wikidata_overlap)} classes)\")\n",
    "\n",
    "# Print classes not in ArtDL\n",
    "iconclass_not_in_artdl = iconclass_ids - artdl_ids\n",
    "wikidata_not_in_artdl = wikidata_ids - artdl_ids\n",
    "\n",
    "print(f\"\\n=== CLASSES NOT IN ARTDL ===\")\n",
    "print(f\"\\nICONCLASS classes not in ArtDL: {len(iconclass_not_in_artdl)} classes\")\n",
    "if iconclass_not_in_artdl:\n",
    "    print(\"   ICONCLASS IDs:\")\n",
    "    for iconclass_id in sorted(iconclass_not_in_artdl):\n",
    "        label = iconclass_df[iconclass_df['ID'] == iconclass_id].iloc[0]['Label']\n",
    "        print(f\"   - {iconclass_id}: {label}\")\n",
    "\n",
    "print(f\"\\nWikidata classes not in ArtDL: {len(wikidata_not_in_artdl)} classes\")\n",
    "if wikidata_not_in_artdl:\n",
    "    print(\"   ICONCLASS IDs:\")\n",
    "    for iconclass_id in sorted(wikidata_not_in_artdl):\n",
    "        label = wikidata_df[wikidata_df['ID'] == iconclass_id].iloc[0]['Label']\n",
    "        print(f\"   - {iconclass_id}: {label}\")"
   ]
  }
 ],
 "metadata": {
  "kernelspec": {
   "display_name": "venv",
   "language": "python",
   "name": "python3"
  },
  "language_info": {
   "codemirror_mode": {
    "name": "ipython",
    "version": 3
   },
   "file_extension": ".py",
   "mimetype": "text/x-python",
   "name": "python",
   "nbconvert_exporter": "python",
   "pygments_lexer": "ipython3",
   "version": "3.12.3"
  }
 },
 "nbformat": 4,
 "nbformat_minor": 4
}
