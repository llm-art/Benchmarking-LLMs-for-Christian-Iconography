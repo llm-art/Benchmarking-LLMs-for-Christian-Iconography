{
 "cells": [
  {
   "cell_type": "code",
   "execution_count": 1,
   "metadata": {},
   "outputs": [
    {
     "name": "stdout",
     "output_type": "stream",
     "text": [
      "'ICONCLASS' folder is ready.\n"
     ]
    }
   ],
   "source": [
    "import os\n",
    "import requests\n",
    "import zipfile\n",
    "from tqdm import tqdm\n",
    "\n",
    "# Define the folder and URL\n",
    "folder_name = 'ICONCLASS'\n",
    "url = 'https://iconclass.org/testset/779ba2ca9e977c58d818e3823a676973.zip'\n",
    "zip_file_name = 'iconclass.zip'\n",
    "\n",
    "# Check if the folder exists\n",
    "if not os.path.exists(folder_name):\n",
    "  # Download the zip file with progress bar\n",
    "  response = requests.get(url, stream=True)\n",
    "  total_size = int(response.headers.get('content-length', 0))\n",
    "  block_size = 1024  # 1 Kibibyte\n",
    "  t = tqdm(total=total_size, unit='iB', unit_scale=True)\n",
    "  with open(zip_file_name, 'wb') as file:\n",
    "    for data in response.iter_content(block_size):\n",
    "      t.update(len(data))\n",
    "      file.write(data)\n",
    "  t.close()\n",
    "  \n",
    "  # Extract the zip file\n",
    "  with zipfile.ZipFile(zip_file_name, 'r') as zip_ref:\n",
    "    zip_ref.extractall(folder_name)\n",
    "  \n",
    "  # Remove the zip file\n",
    "  os.remove(zip_file_name)\n",
    "\n",
    "print(f\"'{folder_name}' folder is ready.\")"
   ]
  },
  {
   "cell_type": "code",
   "execution_count": 2,
   "metadata": {},
   "outputs": [
    {
     "name": "stdout",
     "output_type": "stream",
     "text": [
      "All .jpg images have been moved to 'ICONCLASS/JPEGImages' folder.\n"
     ]
    }
   ],
   "source": [
    "import os\n",
    "import shutil\n",
    "\n",
    "# Define the new folder name\n",
    "jpeg_folder_name = os.path.join(folder_name, 'JPEGImages')\n",
    "\n",
    "# Create the new folder if it doesn't exist\n",
    "if not os.path.exists(jpeg_folder_name):\n",
    "  os.makedirs(jpeg_folder_name)\n",
    "\n",
    "# Move all .jpg images to the new folder\n",
    "for file_name in os.listdir(folder_name):\n",
    "  if file_name.endswith('.jpg'):\n",
    "    shutil.move(os.path.join(folder_name, file_name), os.path.join(jpeg_folder_name, file_name))\n",
    "\n",
    "print(f\"All .jpg images have been moved to '{jpeg_folder_name}' folder.\")"
   ]
  },
  {
   "cell_type": "code",
   "execution_count": 3,
   "metadata": {},
   "outputs": [
    {
     "name": "stdout",
     "output_type": "stream",
     "text": [
      "                ID  ImageCount\n",
      "0  61B:31A2212(+1)        7423\n",
      "1        61B:31D14        7391\n",
      "2         61B(+52)        5214\n",
      "3          31A2422        5195\n",
      "4          31A2421        5169\n",
      "5         61B(+53)        4628\n",
      "6             49M3        4431\n",
      "7       31D15:61BB        4334\n",
      "8           31A235        3758\n",
      "9              25I        3392\n"
     ]
    }
   ],
   "source": [
    "import pandas as pd\n",
    "import os\n",
    "import json\n",
    "\n",
    "source_path = os.path.join(folder_name, 'data.json')\n",
    "\n",
    "# Load the JSON file\n",
    "with open(source_path, 'r') as file:\n",
    "  data = json.load(file)\n",
    "\n",
    "# Count the number of images for each value\n",
    "image_counts = {}\n",
    "for codes in data.values():\n",
    "  for code in codes:\n",
    "    image_counts[code] = image_counts.get(code, 0) + 1\n",
    "\n",
    "# Convert to DataFrame and sort in descending order\n",
    "image_counts_df = pd.DataFrame(list(image_counts.items()), columns=['ID', 'ImageCount'])\n",
    "image_counts_df = image_counts_df.sort_values(by='ImageCount', ascending=False)\n",
    "image_counts_df = image_counts_df.head(10)\n",
    "image_counts_df.reset_index(drop=True, inplace=True)\n",
    "\n",
    "print(image_counts_df)"
   ]
  },
  {
   "cell_type": "code",
   "execution_count": 4,
   "metadata": {},
   "outputs": [
    {
     "name": "stdout",
     "output_type": "stream",
     "text": [
      "Number of classes: 10\n",
      "                     ID  ImageCount\n",
      "0             11H(PAUL)         178\n",
      "1           11H(JEROME)         158\n",
      "2  11HH(MARY MAGDALENE)         153\n",
      "3             11H(JOHN)         132\n",
      "4            11H(PETER)         128\n",
      "5       11HH(CATHERINE)         116\n",
      "6     11H(ANTONY ABBOT)         109\n",
      "7          11H(MATTHEW)          94\n",
      "8          11H(FRANCIS)          78\n",
      "9             11H(MARK)          73\n",
      "The number of images with multiple labels is 70\n",
      "Ground truth data has been saved to 'ICONCLASS-data/2_ground_truth.json'.\n",
      "Filtered keys have been saved to 'ICONCLASS-data/2_test.txt'.\n",
      "The ground truth data contains 570 images\n"
     ]
    }
   ],
   "source": [
    "import pandas as pd\n",
    "import os\n",
    "import json\n",
    "\n",
    "new_folder_name = 'ICONCLASS-data'\n",
    "\n",
    "# Load the JSON file\n",
    "with open(source_path, 'r') as file:\n",
    "  data = json.load(file)\n",
    "\n",
    "# Get top 10 male and female saints with the most images\n",
    "filtered_keys = {k: v for k, v in data.items() if any(code.startswith('11H(') or code.startswith('11HH(') for code in v)}\n",
    "\n",
    "# Count the number of images for each value\n",
    "image_counts = {}\n",
    "for codes in filtered_keys.values():\n",
    "  for code in codes:\n",
    "    if code.startswith('11H(') or code.startswith('11HH('):\n",
    "      image_counts[code] = image_counts.get(code, 0) + 1\n",
    "\n",
    "# Convert to DataFrame and sort in descending order\n",
    "image_counts_df = pd.DataFrame(list(image_counts.items()), columns=['ID', 'ImageCount'])\n",
    "image_counts_df = image_counts_df.sort_values(by='ImageCount', ascending=False)\n",
    "\n",
    "# Remove characters after the closing round bracket and collapse IDs\n",
    "image_counts_df['ID'] = image_counts_df['ID'].str.extract(r'(^.*?\\))')[0]\n",
    "image_counts_df = image_counts_df.groupby('ID', as_index=False).sum()\n",
    "image_counts_df = image_counts_df.sort_values(by='ImageCount', ascending=False)\n",
    "\n",
    "# Keep only top 10 classes (changed from index[11:] to index[10:] to ensure exactly 10 classes)\n",
    "image_counts_df = image_counts_df.drop(image_counts_df.index[10:])\n",
    "image_counts_df.reset_index(drop=True, inplace=True)\n",
    "\n",
    "print(f\"Number of classes: {len(image_counts_df)}\")\n",
    "print(image_counts_df)\n",
    "\n",
    "# Store image_counts_df in ICONCLASS-data/pre_classes.csv\n",
    "image_counts_df.to_csv(os.path.join(new_folder_name, 'pre_classes.csv'), index=False)\n",
    "\n",
    "# Define the path for the ground truth JSON file\n",
    "# Filter the keys to keep only those that have an item in the array value that belongs to image_counts_df, ID column\n",
    "filtered_keys = {k: [code for code in v if code in image_counts_df['ID'].values] for k, v in filtered_keys.items() if any(code in image_counts_df['ID'].values for code in v)}\n",
    "\n",
    "# Check how many images have multiple labels\n",
    "multi_label_count = sum(1 for v in filtered_keys.values() if len(v) > 1)\n",
    "print(f'The number of images with multiple labels is {multi_label_count}')\n",
    "\n",
    "# Remove multi-label images from filtered_keys\n",
    "filtered_keys = {k: v for k, v in filtered_keys.items() if len(v) == 1}\n",
    "\n",
    "# Define the path for the ground truth JSON file\n",
    "ground_truth = [{'item': k.replace('.jpg', ''), 'class': v if len(v) > 1 else v[0]} for k, v in filtered_keys.items()]\n",
    "ground_truth_path = os.path.join(new_folder_name, '2_ground_truth.json')\n",
    "with open(ground_truth_path, 'w') as file:\n",
    "  json.dump(ground_truth, file, indent=2)\n",
    "print(f\"Ground truth data has been saved to '{ground_truth_path}'.\")\n",
    "\n",
    "# Store test file\n",
    "test_keys_path = os.path.join(new_folder_name, '2_test.txt')\n",
    "with open(test_keys_path, 'w') as file:\n",
    "  for key in filtered_keys.keys():\n",
    "    file.write(f\"{key.replace('.jpg', '')}\\n\")\n",
    "print(f\"Filtered keys have been saved to '{test_keys_path}'.\")\n",
    "\n",
    "print(f'The ground truth data contains {len(filtered_keys.keys())} images')"
   ]
  }
 ],
 "metadata": {
  "kernelspec": {
   "display_name": "venv",
   "language": "python",
   "name": "python3"
  },
  "language_info": {
   "codemirror_mode": {
    "name": "ipython",
    "version": 3
   },
   "file_extension": ".py",
   "mimetype": "text/x-python",
   "name": "python",
   "nbconvert_exporter": "python",
   "pygments_lexer": "ipython3",
   "version": "3.12.3"
  }
 },
 "nbformat": 4,
 "nbformat_minor": 2
}
