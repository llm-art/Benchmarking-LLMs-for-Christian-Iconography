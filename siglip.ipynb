{
 "cells": [
  {
   "cell_type": "code",
   "execution_count": 1,
   "metadata": {},
   "outputs": [
    {
     "name": "stdout",
     "output_type": "stream",
     "text": [
      "Loaded 1864 images\n"
     ]
    }
   ],
   "source": [
    "import os\n",
    "from PIL import Image\n",
    "\n",
    "# Open test.txt and read the lines\n",
    "with open(os.path.join(os.pardir, '2_test.txt'), 'r') as file:\n",
    "  test_items = file.read().splitlines()\n",
    "\n",
    "images = []\n",
    "\n",
    "for item in test_items:\n",
    "  image_path = os.path.join(os.pardir, 'ArtDL', 'JPEGImages', f\"{item}.jpg\")\n",
    "  try:\n",
    "    image = Image.open(image_path)\n",
    "    images.append(image)\n",
    "  except Exception as e:\n",
    "    print(f\"Error loading image {image_path}: {e}\")\n",
    "\n",
    "print(f\"Loaded {len(images)} images\")"
   ]
  },
  {
   "cell_type": "markdown",
   "metadata": {},
   "source": [
    "Test SigLIP with these models:\n",
    "\n",
    "* google/siglip-base-patch16-512\n",
    "* google/siglip-large-patch16-384"
   ]
  },
  {
   "cell_type": "code",
   "execution_count": 2,
   "metadata": {},
   "outputs": [
    {
     "name": "stderr",
     "output_type": "stream",
     "text": [
      "/Users/gspinaci/projects/llm-art/LLM-test/.venv/lib/python3.12/site-packages/tqdm/auto.py:21: TqdmWarning: IProgress not found. Please update jupyter and ipywidgets. See https://ipywidgets.readthedocs.io/en/stable/user_install.html\n",
      "  from .autonotebook import tqdm as notebook_tqdm\n"
     ]
    },
    {
     "name": "stdout",
     "output_type": "stream",
     "text": [
      "Using model siglip-so400m-patch14-384\n"
     ]
    },
    {
     "name": "stderr",
     "output_type": "stream",
     "text": [
      "100%|██████████| 1864/1864 [40:24<00:00,  1.30s/it]"
     ]
    },
    {
     "name": "stdout",
     "output_type": "stream",
     "text": [
      "Probabilities shape torch.Size([1864, 10])\n"
     ]
    },
    {
     "name": "stderr",
     "output_type": "stream",
     "text": [
      "\n"
     ]
    }
   ],
   "source": [
    "from transformers import AutoProcessor, AutoModel\n",
    "from tqdm import tqdm\n",
    "import pandas as pd\n",
    "import torch\n",
    "\n",
    "models = [\"siglip-base-patch16-512\", \"siglip-large-patch16-384\", \"siglip-so400m-patch14-384\"]\n",
    "model_name = models[2]\n",
    "print(f\"Using model {model_name}\")\n",
    "\n",
    "model = AutoModel.from_pretrained(\"google/\"+model_name)\n",
    "processor = AutoProcessor.from_pretrained(\"google/\"+model_name)\n",
    "\n",
    "# Load classes\n",
    "with open(os.path.join('classes_desc.txt'), 'r') as f:\n",
    "  classes = [tuple(line.strip().split(',')) for line in f]\n",
    "\n",
    "all_probs = []\n",
    "for idx, image in enumerate(tqdm(images)):\n",
    "  inputs = processor(text=[f\"This is a photo of {cls[1]}\" for cls in classes], images=image, padding=\"max_length\", return_tensors=\"pt\")\n",
    "\n",
    "  with torch.no_grad():\n",
    "    outputs = model(**inputs)\n",
    "\n",
    "  logits_per_image = outputs.logits_per_image\n",
    "  probs = torch.sigmoid(logits_per_image)\n",
    "  all_probs.append(probs)\n",
    "  \n",
    "all_probs = torch.cat(all_probs, dim=0)\n",
    "print(f\"Probabilities shape {all_probs.shape}\")\n",
    "\n",
    "# Convert all_probs to a DataFrame and store it as a CSV file\n",
    "all_probs_df = pd.DataFrame(all_probs.numpy())\n",
    "os.makedirs(os.path.join(os.curdir, 'evaluations', model_name), exist_ok=True)\n",
    "torch.save(all_probs, os.path.join(os.curdir, 'evaluations', model_name, 'probs.pt'))\n"
   ]
  }
 ],
 "metadata": {
  "kernelspec": {
   "display_name": ".venv",
   "language": "python",
   "name": "python3"
  },
  "language_info": {
   "codemirror_mode": {
    "name": "ipython",
    "version": 3
   },
   "file_extension": ".py",
   "mimetype": "text/x-python",
   "name": "python",
   "nbconvert_exporter": "python",
   "pygments_lexer": "ipython3",
   "version": "3.12.7"
  }
 },
 "nbformat": 4,
 "nbformat_minor": 2
}
