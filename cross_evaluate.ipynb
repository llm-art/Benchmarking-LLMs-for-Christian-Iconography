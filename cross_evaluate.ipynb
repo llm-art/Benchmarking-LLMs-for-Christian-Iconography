{
 "cells": [
  {
   "cell_type": "code",
   "execution_count": 1,
   "metadata": {},
   "outputs": [
    {
     "name": "stdout",
     "output_type": "stream",
     "text": [
      "| Model                     | Test 1   | Test 1 (few-shot)   | Test 2   | Test 2 (few-shot)   |\n",
      "|:--------------------------|:---------|:--------------------|:---------|:--------------------|\n",
      "| clip-vit-base-patch32     | 16.15%   | 21.41%              | 31.55%   | 35.46%              |\n",
      "| clip-vit-base-patch16     | 25.64%   | 29.13%              | 28.70%   | 32.56%              |\n",
      "| clip-vit-large-patch14    | 30.58%   | 31.71%              | 44.31%   | 47.64%              |\n",
      "| siglip-base-patch16-512   | 48.71%   | 55.90%              | 68.19%   | 67.65%              |\n",
      "| siglip-large-patch16-384  | 54.45%   | 53.49%              | 72.21%   | 70.65%              |\n",
      "| siglip-so400m-patch14-384 | 53.86%   | 56.38%              | 70.55%   | 71.73%              |\n",
      "| gpt-4o-mini               | 67.17%   | -                   | 64.43%   |                     |\n",
      "| gpt-4o                    | 84.98%   | -                   | 89.32%   |                     |\n",
      "| Baseline                  | 84.44%   | -                   | -        | -                   |\n"
     ]
    }
   ],
   "source": [
    "import os\n",
    "import pandas as pd\n",
    "from tabulate import tabulate\n",
    "\n",
    "test_1_path = 'test_1'\n",
    "test_2_path = 'test_2'\n",
    "test_3_path = 'test_3'\n",
    "test_4_path = 'test_4'  \n",
    "\n",
    "def get_accuracy(folder_path):\n",
    "  accuracy_dict = {}\n",
    "  for model_folder in os.listdir(folder_path):\n",
    "    model_path = os.path.join(folder_path, model_folder)\n",
    "    if os.path.isdir(model_path):\n",
    "      if os.path.exists(os.path.join(model_path, 'summary_metrics.csv')):\n",
    "        summary_file = os.path.join(model_path, 'summary_metrics.csv')\n",
    "        df = pd.read_csv(summary_file)\n",
    "        accuracy = df.loc[df['Model'] == model_folder, 'Accuracy'].values[0]\n",
    "        accuracy_dict[model_folder] = accuracy\n",
    "  return accuracy_dict\n",
    "\n",
    "test_1_accuracy = get_accuracy(test_1_path)\n",
    "test_2_accuracy = get_accuracy(test_2_path)\n",
    "test_3_accuracy = get_accuracy(test_3_path)\n",
    "test_4_accuracy = get_accuracy(test_4_path)\n",
    "\n",
    "df = pd.DataFrame({\n",
    "  'Model': list(test_1_accuracy.keys()),\n",
    "  'Test 1': list(test_1_accuracy.values()),\n",
    "  'Test 1 (few-shot)': [test_3_accuracy.get(model, None) for model in test_1_accuracy.keys()],\n",
    "  'Test 2': [test_2_accuracy.get(model, None) for model in test_1_accuracy.keys()],\n",
    "  'Test 2 (few-shot)': [test_4_accuracy.get(model, None) for model in test_1_accuracy.keys()],\n",
    "})\n",
    "\n",
    "baseline_df = pd.read_csv('dataset/baseline.csv')\n",
    "baseline_df = baseline_df[baseline_df['Class Name'] != 'Mean']\n",
    "\n",
    "# Calculate TP as recall * (TP + FN) = recall * # Test Images\n",
    "baseline_df['Recall'] = baseline_df['Recall'].str.rstrip('%').astype('float') / 100.0\n",
    "baseline_df['# Test Images'] = baseline_df['# Test Images'].str.replace(',', '').astype('int')\n",
    "baseline_df['True Positives'] = baseline_df['# Test Images'] * baseline_df['Recall']\n",
    "\n",
    "# Calculate accuracy as TP / # Test Images\n",
    "total_true_positives = baseline_df['True Positives'].sum()\n",
    "total_test_images = baseline_df['# Test Images'].sum()\n",
    "baseline_accuracy = total_true_positives / total_test_images\n",
    "\n",
    "df.set_index('Model', inplace=True)\n",
    "df.sort_index(inplace=True)\n",
    "\n",
    "df['Test 1 (few-shot)'] = df['Test 1 (few-shot)'].fillna('-')\n",
    "\n",
    "df = df.reindex([idx for idx in df.index if idx != 'gpt-4o-mini'] + ['gpt-4o-mini'])\n",
    "df = df.reindex([idx for idx in df.index if idx != 'gpt-4o'] + ['gpt-4o'])\n",
    "\n",
    "df.loc['Baseline'] = [f\"{baseline_accuracy:.2%}\", \"-\", \"-\", \"-\"]\n",
    "df = df.reindex(['clip-vit-base-patch32'] + [idx for idx in df.index if idx != 'clip-vit-base-patch32'])\n",
    "\n",
    "print(df.to_markdown())\n"
   ]
  },
  {
   "cell_type": "code",
   "execution_count": 3,
   "metadata": {},
   "outputs": [
    {
     "name": "stdout",
     "output_type": "stream",
     "text": [
      "Test 1 F1 Scores:\n",
      "| Model                     | Antony of Padua   | Francis of Assisi   | Jerome   | John the Baptist   | Mary Magdalene   | Paul   | Peter   | Saint Dominic   | Saint Sebastian   | Virgin Mary   |\n",
      "|:--------------------------|:------------------|:--------------------|:---------|:-------------------|:-----------------|:-------|:--------|:----------------|:------------------|:--------------|\n",
      "| clip-vit-base-patch32     | 0.59%             | 34.61%              | 0.00%    | 19.18%             | 24.32%           | 0.00%  | 0.00%   | 12.67%          | 33.56%            | 10.52%        |\n",
      "| clip-vit-base-patch16     | 3.33%             | 42.40%              | 0.00%    | 36.80%             | 25.81%           | 0.00%  | 0.00%   | 12.61%          | 40.53%            | 29.17%        |\n",
      "| clip-vit-large-patch14    | 13.95%            | 64.89%              | 0.00%    | 27.86%             | 30.28%           | 6.35%  | 1.64%   | 16.29%          | 58.54%            | 35.29%        |\n",
      "| gpt-4o-mini               | 23.53%            | 79.00%              | 74.18%   | 76.61%             | 73.62%           | 64.52% | 80.38%  | 76.19%          | 81.08%            | 93.17%        |\n",
      "| siglip-base-patch16-512   | 7.07%             | 36.26%              | 4.88%    | 41.49%             | 58.70%           | 0.00%  | 0.00%   | 11.90%          | 65.79%            | 69.30%        |\n",
      "| siglip-large-patch16-384  | 16.36%            | 53.95%              | 0.00%    | 37.53%             | 58.99%           | 0.00%  | 0.00%   | 14.17%          | 71.76%            | 75.26%        |\n",
      "| siglip-so400m-patch14-384 | 7.76%             | 46.38%              | 15.38%   | 43.88%             | 66.94%           | 0.00%  | 12.60%  | 25.13%          | 64.63%            | 72.81%        |\n",
      "| Baseline                  | 64.00%            | 75.35%              | 74.19%   | 67.23%             | 75.58%           | 42.35% | 73.86%  | 56.72%          | 81.19%            | 92.01%        |\n"
     ]
    }
   ],
   "source": [
    "def get_f1_scores(folder_path):\n",
    "  f1_scores_dict = {}\n",
    "  for model_folder in os.listdir(folder_path):\n",
    "    model_path = os.path.join(folder_path, model_folder)\n",
    "    if os.path.isdir(model_path):\n",
    "      class_metrics_file = os.path.join(model_path, 'class_metrics.csv')\n",
    "      df = pd.read_csv(class_metrics_file)\n",
    "      f1_scores = df.set_index('class_name')['F1 Score'].to_dict()\n",
    "      f1_scores_dict[model_folder] = f1_scores\n",
    "  return f1_scores_dict\n",
    "\n",
    "test_1_f1_scores = get_f1_scores(test_1_path)\n",
    "test_1_df = pd.DataFrame.from_dict(test_1_f1_scores, orient='index')\n",
    "test_1_df.drop(columns=['Macro', 'Micro'], inplace=True)\n",
    "test_1_df.sort_index(inplace=True)\n",
    "test_1_df.index.name = 'Model'\n",
    "test_1_df = test_1_df.reindex(['clip-vit-base-patch32'] + [idx for idx in test_1_df.index if idx != 'clip-vit-base-patch32'])\n",
    "\n",
    "# Read classes.csv to map IDs to Labels\n",
    "classes_df = pd.read_csv('dataset/classes.csv')\n",
    "id_to_label = dict(zip(classes_df['ID'], classes_df['Label']))\n",
    "\n",
    "baseline_df = baseline_df[baseline_df['Class Name'] != 'Mean']\n",
    "test_1_df.columns = [id_to_label.get(col, col) for col in test_1_df.columns]\n",
    "\n",
    "# Append baseline F1-Score to test_1_df\n",
    "baseline_f1_scores = baseline_df.groupby('Class Name')['F1-Score'].sum().to_dict()\n",
    "test_1_df.loc['Baseline'] = [baseline_f1_scores.get(class_name, '-') for class_name in test_1_df.columns]\n",
    "\n",
    "print(\"Test 1 F1 Scores:\")\n",
    "print(test_1_df.to_markdown())\n",
    "\n"
   ]
  },
  {
   "cell_type": "code",
   "execution_count": 4,
   "metadata": {},
   "outputs": [
    {
     "name": "stdout",
     "output_type": "stream",
     "text": [
      "\n",
      "Test 2 F1 Scores:\n",
      "| Model                     | Antony of Padua   | Francis of Assisi   | Jerome   | John the Baptist   | Mary Magdalene   | Paul   | Peter   | Saint Dominic   | Saint Sebastian   | Virgin Mary   |\n",
      "|:--------------------------|:------------------|:--------------------|:---------|:-------------------|:-----------------|:-------|:--------|:----------------|:------------------|:--------------|\n",
      "| clip-vit-base-patch32     | 9.21%             | 17.71%              | 51.75%   | 27.59%             | 34.07%           | 22.90% | 22.33%  | 8.51%           | 23.24%            | 41.67%        |\n",
      "| clip-vit-base-patch16     | 6.09%             | 5.22%               | 51.82%   | 36.76%             | 20.25%           | 30.00% | 32.56%  | 25.81%          | 29.05%            | 36.43%        |\n",
      "| clip-vit-large-patch14    | 14.43%            | 36.99%              | 59.65%   | 47.78%             | 34.23%           | 32.79% | 46.58%  | 22.80%          | 32.74%            | 54.30%        |\n",
      "| gpt-4o-mini               | 52.17%            | 59.26%              | 80.00%   | 80.95%             | 82.35%           | 80.00% | 94.12%  | 75.00%          | 60.87%            | 86.59%        |\n",
      "| siglip-base-patch16-512   | 10.17%            | 33.10%              | 66.67%   | 7.77%              | 40.00%           | 52.17% | 39.79%  | 20.92%          | 44.04%            | 88.15%        |\n",
      "| siglip-large-patch16-384  | 26.67%            | 53.16%              | 75.11%   | 7.77%              | 37.68%           | 17.54% | 57.67%  | 23.93%          | 58.90%            | 88.78%        |\n",
      "| siglip-so400m-patch14-384 | 12.50%            | 43.24%              | 80.19%   | 62.59%             | 55.51%           | 54.55% | 62.55%  | 24.49%          | 47.83%            | 84.94%        |\n",
      "| Baseline                  | 64.00%            | 75.35%              | 74.19%   | 67.23%             | 75.58%           | 42.35% | 73.86%  | 56.72%          | 81.19%            | 92.01%        |\n"
     ]
    }
   ],
   "source": [
    "print(\"\\nTest 2 F1 Scores:\")\n",
    "\n",
    "test_2_f1_scores = get_f1_scores(test_2_path)\n",
    "test_2_df = pd.DataFrame.from_dict(test_2_f1_scores, orient='index')\n",
    "test_2_df.drop(columns=['Macro', 'Micro'], inplace=True)\n",
    "test_2_df.sort_index(inplace=True)\n",
    "test_2_df = test_2_df.reindex(['clip-vit-base-patch32'] + [idx for idx in test_2_df.index if idx != 'clip-vit-base-patch32'])\n",
    "test_2_df.index.name = 'Model'\n",
    "\n",
    "test_2_df.columns = [id_to_label.get(col, col) for col in test_2_df.columns]\n",
    "\n",
    "test_2_df.loc['Baseline'] = [baseline_f1_scores.get(class_name, '-') for class_name in test_2_df.columns]\n",
    "print(test_2_df.to_markdown())"
   ]
  }
 ],
 "metadata": {
  "kernelspec": {
   "display_name": "venv",
   "language": "python",
   "name": "python3"
  },
  "language_info": {
   "codemirror_mode": {
    "name": "ipython",
    "version": 3
   },
   "file_extension": ".py",
   "mimetype": "text/x-python",
   "name": "python",
   "nbconvert_exporter": "python",
   "pygments_lexer": "ipython3",
   "version": "3.10.12"
  }
 },
 "nbformat": 4,
 "nbformat_minor": 2
}
