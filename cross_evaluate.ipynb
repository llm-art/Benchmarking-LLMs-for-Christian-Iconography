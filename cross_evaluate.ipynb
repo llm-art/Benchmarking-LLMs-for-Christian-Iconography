{
 "cells": [
  {
   "cell_type": "code",
   "execution_count": 1,
   "metadata": {},
   "outputs": [],
   "source": [
    "# Common code block with reused functions and imports\n",
    "import os\n",
    "import pandas as pd\n",
    "from tabulate import tabulate\n",
    "\n",
    "# Define test paths\n",
    "test_1_path = 'test_1'\n",
    "test_2_path = 'test_2'\n",
    "test_3_path = 'test_3'\n",
    "\n",
    "def get_accuracy(folder_path, dataset_name):\n",
    "    \"\"\"Get accuracy values for all models in a dataset folder\"\"\"\n",
    "    folder_path = os.path.join(folder_path, dataset_name)\n",
    "    accuracy_dict = {}\n",
    "    \n",
    "    if not os.path.exists(folder_path):\n",
    "        return accuracy_dict\n",
    "        \n",
    "    for model_folder in os.listdir(folder_path):\n",
    "        model_path = os.path.join(folder_path, model_folder)\n",
    "        if os.path.isdir(model_path):\n",
    "            summary_file = os.path.join(model_path, 'summary_metrics.csv')\n",
    "            if os.path.exists(summary_file):\n",
    "                df = pd.read_csv(summary_file)\n",
    "                accuracy = df.loc[df['Model'] == model_folder, 'Accuracy'].values[0]\n",
    "                accuracy_dict[model_folder] = accuracy\n",
    "    return accuracy_dict\n",
    "\n",
    "def create_dataframe(dataset_name, test_1_accuracy, test_2_accuracy, test_3_accuracy):\n",
    "    \"\"\"Create a DataFrame with accuracy values for all tests\"\"\"\n",
    "    df = pd.DataFrame({\n",
    "        'Model': list(test_1_accuracy.keys()),\n",
    "        'Test 1': list(test_1_accuracy.values()),\n",
    "        'Test 1 (few-shot)': [test_3_accuracy.get(model, '') for model in test_1_accuracy.keys()],\n",
    "        'Test 2': [test_2_accuracy.get(model, '') for model in test_1_accuracy.keys()],\n",
    "    })\n",
    "    \n",
    "    # Set index and sort\n",
    "    df.set_index('Model', inplace=True)\n",
    "    df.sort_index(inplace=True)\n",
    "    \n",
    "    # Reorder specific models if they exist\n",
    "    for model in ['gpt-4o-mini', 'gpt-4o', 'clip-vit-base-patch32']:\n",
    "        if model in df.index:\n",
    "            df = df.reindex([idx for idx in df.index if idx != model] + [model])\n",
    "    \n",
    "    # Move clip-vit-base-patch32 to the top if it exists\n",
    "    if 'clip-vit-base-patch32' in df.index:\n",
    "        df = df.reindex(['clip-vit-base-patch32'] + [idx for idx in df.index if idx != 'clip-vit-base-patch32'])\n",
    "    \n",
    "    # Rename columns based on dataset\n",
    "    df.columns = ['zero-shot (labels)', f'few-shot[*](dataset/{dataset_name}-data/few-shot/README.md) (labels)', 'zero-shot (descriptions)']\n",
    "    \n",
    "    return df\n",
    "\n",
    "def calculate_baseline(dataset_name):\n",
    "    \"\"\"Calculate baseline accuracy from baseline.csv if it exists\"\"\"\n",
    "    baseline_path = f'dataset/{dataset_name}-data/baseline.csv'\n",
    "    if os.path.exists(baseline_path):\n",
    "        baseline_df = pd.read_csv(baseline_path)\n",
    "        baseline_df = baseline_df[baseline_df['Class Name'] != 'Mean']\n",
    "        \n",
    "        # Calculate TP as recall * (TP + FN) = recall * # Test Images\n",
    "        baseline_df['Recall'] = baseline_df['Recall'].str.rstrip('%').astype('float') / 100.0\n",
    "        baseline_df['# Test Images'] = baseline_df['# Test Images'].str.replace(',', '').astype('int')\n",
    "        baseline_df['True Positives'] = baseline_df['# Test Images'] * baseline_df['Recall']\n",
    "        \n",
    "        # Calculate accuracy as TP / # Test Images\n",
    "        total_true_positives = baseline_df['True Positives'].sum()\n",
    "        total_test_images = baseline_df['# Test Images'].sum()\n",
    "        baseline_accuracy = total_true_positives / total_test_images\n",
    "        \n",
    "        return baseline_accuracy\n",
    "    return None"
   ]
  },
  {
   "cell_type": "code",
   "execution_count": 2,
   "metadata": {},
   "outputs": [
    {
     "name": "stdout",
     "output_type": "stream",
     "text": [
      "#### ArtDL Results\n",
      "| Model                          | zero-shot (labels)   | few-shot[*](dataset/ArtDL-data/few-shot/README.md) (labels)   | zero-shot (descriptions)   |\n",
      "|:-------------------------------|:---------------------|:--------------------------------------------------------------|:---------------------------|\n",
      "| clip-vit-base-patch32          | 16.15%               | 21.41%                                                        | 31.55%                     |\n",
      "| clip-vit-base-patch16          | 25.64%               | 29.13%                                                        | 28.70%                     |\n",
      "| clip-vit-large-patch14         | 30.58%               | 31.71%                                                        | 44.31%                     |\n",
      "| gemini-2.5-flash-preview-05-20 | 88.20%               | 84.71%                                                        | 87.02%                     |\n",
      "| gemini-2.5-pro-preview-05-06   | 79.76%               | 86.59%                                                        | 90.18%                     |\n",
      "| siglip-base-patch16-512        | 48.71%               | 55.90%                                                        | 68.19%                     |\n",
      "| siglip-large-patch16-384       | 54.45%               | 53.49%                                                        | 72.21%                     |\n",
      "| siglip-so400m-patch14-384      | 53.86%               | 56.38%                                                        | 70.55%                     |\n",
      "| gpt-4o-mini                    | 83.10%               | 85.19%                                                        | 84.98%                     |\n",
      "| gpt-4o                         | 64.77%               | 62.53%                                                        | 50.40%                     |\n",
      "| Baseline                       | 84.44%               |                                                               |                            |\n",
      "\n",
      "\n"
     ]
    }
   ],
   "source": [
    "# Dataset: ArtDL\n",
    "dataset_name = \"ArtDL\"\n",
    "test_1_accuracy = get_accuracy(test_1_path, dataset_name)\n",
    "test_2_accuracy = get_accuracy(test_2_path, dataset_name)\n",
    "test_3_accuracy = get_accuracy(test_3_path, dataset_name)\n",
    "\n",
    "# Create DataFrame\n",
    "df = create_dataframe(dataset_name, test_1_accuracy, test_2_accuracy, test_3_accuracy)\n",
    "\n",
    "# Add baseline if available\n",
    "baseline_accuracy = calculate_baseline(dataset_name)\n",
    "if baseline_accuracy is not None:\n",
    "    df.loc['Baseline'] = [f\"{baseline_accuracy:.2%}\", \"\", \"\"]\n",
    "\n",
    "# Format and display\n",
    "print(f\"#### {dataset_name} Results\")\n",
    "print(df.to_markdown())\n",
    "print(\"\\n\")"
   ]
  },
  {
   "cell_type": "code",
   "execution_count": 3,
   "metadata": {},
   "outputs": [
    {
     "name": "stdout",
     "output_type": "stream",
     "text": [
      "#### ICONCLASS Results\n",
      "| Model                          | zero-shot (labels)   | few-shot[*](dataset/ICONCLASS-data/few-shot/README.md) (labels)   | zero-shot (descriptions)   |\n",
      "|:-------------------------------|:---------------------|:------------------------------------------------------------------|:---------------------------|\n",
      "| clip-vit-base-patch32          | 24.74%               | 29.82%                                                            | 29.30%                     |\n",
      "| clip-vit-base-patch16          | 30.00%               | 33.51%                                                            | 27.37%                     |\n",
      "| clip-vit-large-patch14         | 40.00%               | 42.81%                                                            | 35.44%                     |\n",
      "| gemini-2.5-flash-preview-05-20 | 56.28%               | 75.26%                                                            | 71.15%                     |\n",
      "| gemini-2.5-pro-preview-05-06   | 78.77%               | 79.65%                                                            | 78.60%                     |\n",
      "| siglip-base-patch16-512        | 43.51%               | 41.93%                                                            | 33.33%                     |\n",
      "| siglip-large-patch16-384       | 48.95%               | 49.30%                                                            | 38.77%                     |\n",
      "| siglip-so400m-patch14-384      | 59.47%               | 60.88%                                                            | 53.16%                     |\n",
      "| gpt-4o-mini                    | 21.48%               | 26.02%                                                            | 22.08%                     |\n",
      "| gpt-4o                         | 68.42%               | 65.73%                                                            | 41.87%                     |\n",
      "\n",
      "\n"
     ]
    }
   ],
   "source": [
    "# Dataset: ICONCLASS\n",
    "dataset_name = \"ICONCLASS\"\n",
    "test_1_accuracy = get_accuracy(test_1_path, dataset_name)\n",
    "test_2_accuracy = get_accuracy(test_2_path, dataset_name)\n",
    "test_3_accuracy = get_accuracy(test_3_path, dataset_name)\n",
    "\n",
    "# Create DataFrame\n",
    "df = create_dataframe(dataset_name, test_1_accuracy, test_2_accuracy, test_3_accuracy)\n",
    "\n",
    "# Format and display\n",
    "print(f\"#### {dataset_name} Results\")\n",
    "print(df.to_markdown())\n",
    "print(\"\\n\")"
   ]
  },
  {
   "cell_type": "code",
   "execution_count": 4,
   "metadata": {},
   "outputs": [
    {
     "name": "stdout",
     "output_type": "stream",
     "text": [
      "#### wikidata Results\n",
      "| Model                          | zero-shot (labels)   | few-shot[*](dataset/wikidata-data/few-shot/README.md) (labels)   | zero-shot (descriptions)   |\n",
      "|:-------------------------------|:---------------------|:-----------------------------------------------------------------|:---------------------------|\n",
      "| clip-vit-base-patch32          | 45.95%               | 45.52%                                                           | 44.52%                     |\n",
      "| clip-vit-base-patch16          | 50.78%               | 47.08%                                                           | 46.66%                     |\n",
      "| clip-vit-large-patch14         | 56.76%               | 55.48%                                                           | 56.61%                     |\n",
      "| gemini-2.5-flash-preview-05-20 | 44.72%               | 44.57%                                                           | 45.31%                     |\n",
      "| gemini-2.5-pro-preview-05-06   | 45.89%               | 47.07%                                                           | 55.31%                     |\n",
      "| siglip-base-patch16-512        | 57.47%               | 56.05%                                                           | 46.94%                     |\n",
      "| siglip-large-patch16-384       | 60.03%               | 61.17%                                                           | 43.95%                     |\n",
      "| siglip-so400m-patch14-384      | 66.29%               | 64.86%                                                           | 59.60%                     |\n",
      "| gpt-4o-mini                    | 34.46%               | 33.53%                                                           | 36.51%                     |\n",
      "| gpt-4o                         | 44.69%               | 43.13%                                                           | 44.48%                     |\n",
      "\n",
      "\n"
     ]
    }
   ],
   "source": [
    "# Dataset: IconArt\n",
    "dataset_name = \"wikidata\"\n",
    "test_1_accuracy = get_accuracy(test_1_path, dataset_name)\n",
    "test_2_accuracy = get_accuracy(test_2_path, dataset_name)\n",
    "test_3_accuracy = get_accuracy(test_3_path, dataset_name)\n",
    "\n",
    "# Create DataFrame\n",
    "df = create_dataframe(dataset_name, test_1_accuracy, test_2_accuracy, test_3_accuracy)\n",
    "\n",
    "# Format and display\n",
    "print(f\"#### {dataset_name} Results\")\n",
    "print(df.to_markdown())\n",
    "print(\"\\n\")"
   ]
  },
  {
   "cell_type": "code",
   "execution_count": 5,
   "metadata": {},
   "outputs": [
    {
     "data": {
      "text/plain": [
       "'\\n# Dataset: [NEW_DATASET_NAME]\\ndataset_name = \"[NEW_DATASET_NAME]\"\\ntest_1_accuracy = get_accuracy(test_1_path, dataset_name)\\ntest_2_accuracy = get_accuracy(test_2_path, dataset_name)\\ntest_3_accuracy = get_accuracy(test_3_path, dataset_name)\\n\\n# Create DataFrame\\ndf = create_dataframe(dataset_name, test_1_accuracy, test_2_accuracy, test_3_accuracy)\\n\\n# Add baseline if available\\nbaseline_accuracy = calculate_baseline(dataset_name)\\nif baseline_accuracy is not None:\\n    df.loc[\\'Baseline\\'] = [f\"{baseline_accuracy:.2%}\", \"\", \"\"]\\n\\n# Format and display\\nprint(f\"## {dataset_name} Results\")\\nprint(df.to_markdown())\\nprint(\"\\n\")\\n'"
      ]
     },
     "execution_count": 5,
     "metadata": {},
     "output_type": "execute_result"
    }
   ],
   "source": [
    "# Template for adding a new dataset\n",
    "\"\"\"\n",
    "# Dataset: [NEW_DATASET_NAME]\n",
    "dataset_name = \"[NEW_DATASET_NAME]\"\n",
    "test_1_accuracy = get_accuracy(test_1_path, dataset_name)\n",
    "test_2_accuracy = get_accuracy(test_2_path, dataset_name)\n",
    "test_3_accuracy = get_accuracy(test_3_path, dataset_name)\n",
    "\n",
    "# Create DataFrame\n",
    "df = create_dataframe(dataset_name, test_1_accuracy, test_2_accuracy, test_3_accuracy)\n",
    "\n",
    "# Add baseline if available\n",
    "baseline_accuracy = calculate_baseline(dataset_name)\n",
    "if baseline_accuracy is not None:\n",
    "    df.loc['Baseline'] = [f\"{baseline_accuracy:.2%}\", \"\", \"\"]\n",
    "\n",
    "# Format and display\n",
    "print(f\"## {dataset_name} Results\")\n",
    "print(df.to_markdown())\n",
    "print(\"\\n\")\n",
    "\"\"\"\n"
   ]
  }
 ],
 "metadata": {
  "kernelspec": {
   "display_name": "venv",
   "language": "python",
   "name": "python3"
  },
  "language_info": {
   "codemirror_mode": {
    "name": "ipython",
    "version": 3
   },
   "file_extension": ".py",
   "mimetype": "text/x-python",
   "name": "python",
   "nbconvert_exporter": "python",
   "pygments_lexer": "ipython3",
   "version": "3.12.3"
  }
 },
 "nbformat": 4,
 "nbformat_minor": 4
}
