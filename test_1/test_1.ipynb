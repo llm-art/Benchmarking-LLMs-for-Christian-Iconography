{
 "cells": [
  {
   "cell_type": "code",
   "execution_count": null,
   "metadata": {},
   "outputs": [],
   "source": [
    "# Test 1\n",
    "\n",
    "# Download dataset\n"
   ]
  },
  {
   "cell_type": "code",
   "execution_count": 2,
   "metadata": {},
   "outputs": [
    {
     "name": "stdout",
     "output_type": "stream",
     "text": [
      "The file 'ArtDL.zip' already exists. Skipping download.\n"
     ]
    }
   ],
   "source": [
    "import os\n",
    "import requests\n",
    "from tqdm import tqdm\n",
    "\n",
    "download_url = \"https://zenodo.org/record/6473001/files/ArtDL.zip\"\n",
    "local_file_name = \"ArtDL.zip\"\n",
    "\n",
    "# Check if the file already exists\n",
    "if os.path.exists(local_file_name):\n",
    "  print(f\"The file '{local_file_name}' already exists. Skipping download.\")\n",
    "\n",
    "else:\n",
    "  # Start the download\n",
    "  print(f\"Downloading the dataset from {download_url}...\")\n",
    "  \n",
    "  head_response = requests.head(download_url)\n",
    "  file_size = int(head_response.headers.get(\"content-length\", 0))\n",
    "  \n",
    "  response = requests.get(download_url, stream=True)\n",
    "  response.raise_for_status()\n",
    "  \n",
    "  # Initialize the progress bar\n",
    "  with tqdm(total=file_size, unit=\"B\", unit_scale=True, desc=local_file_name) as pbar:\n",
    "    with open(local_file_name, \"wb\") as file:\n",
    "      for chunk in response.iter_content(chunk_size=8192):\n",
    "        file.write(chunk)\n",
    "        pbar.update(len(chunk))  # Update progress bar\n",
    "  \n",
    "  print(f\"Dataset downloaded and saved as '{local_file_name}'\")"
   ]
  },
  {
   "cell_type": "code",
   "execution_count": 5,
   "metadata": {},
   "outputs": [
    {
     "name": "stdout",
     "output_type": "stream",
     "text": [
      "Extracting 'ArtDL.zip' to 'dataset'...\n",
      "Extraction complete. Files are saved in 'dataset'\n"
     ]
    }
   ],
   "source": [
    "import zipfile\n",
    "import os\n",
    "\n",
    "# Name of the ZIP file\n",
    "zip_file = \"ArtDL.zip\"\n",
    "\n",
    "# Directory to extract the contents\n",
    "extract_dir = \"dataset\"  # You can modify this directory name as needed\n",
    "\n",
    "# Check if the file exists\n",
    "if not os.path.exists(zip_file):\n",
    "    print(f\"The file '{zip_file}' does not exist. Please download it first.\")\n",
    "else:\n",
    "    # Extract the ZIP file\n",
    "    print(f\"Extracting '{zip_file}' to '{extract_dir}'...\")\n",
    "    with zipfile.ZipFile(zip_file, 'r') as zip_ref:\n",
    "        zip_ref.extractall(extract_dir)\n",
    "    print(f\"Extraction complete. Files are saved in '{extract_dir}'\")"
   ]
  },
  {
   "cell_type": "code",
   "execution_count": 6,
   "metadata": {},
   "outputs": [
    {
     "name": "stdout",
     "output_type": "stream",
     "text": [
      "Number of .jpg files in 'dataset/ArtDL/JPEGImages': 42479\n"
     ]
    }
   ],
   "source": [
    "import os\n",
    "\n",
    "# Directory containing the .jpg files\n",
    "image_dir = \"dataset/ArtDL/JPEGImages\"\n",
    "\n",
    "# Check if the directory exists\n",
    "if not os.path.exists(image_dir):\n",
    "    print(f\"The directory '{image_dir}' does not exist.\")\n",
    "else:\n",
    "    # List all files in the directory\n",
    "    all_files = os.listdir(image_dir)\n",
    "    \n",
    "    # Filter only .jpg files (case-insensitive)\n",
    "    jpg_files = [file for file in all_files if file.lower().endswith('.jpg')]\n",
    "    \n",
    "    # Print the count of .jpg files\n",
    "    print(f\"Number of .jpg files in '{image_dir}': {len(jpg_files)}\")"
   ]
  },
  {
   "cell_type": "code",
   "execution_count": 7,
   "metadata": {},
   "outputs": [
    {
     "name": "stdout",
     "output_type": "stream",
     "text": [
      "Loaded 42479 images into the array.\n"
     ]
    }
   ],
   "source": [
    "import os\n",
    "from PIL import Image\n",
    "\n",
    "# Directory containing the .jpg files\n",
    "image_dir = \"dataset/ArtDL/JPEGImages\"\n",
    "\n",
    "# Array to store images\n",
    "images = []\n",
    "\n",
    "# Check if the directory exists\n",
    "if not os.path.exists(image_dir):\n",
    "    print(f\"The directory '{image_dir}' does not exist.\")\n",
    "else:\n",
    "    # List all files in the directory\n",
    "    all_files = os.listdir(image_dir)\n",
    "    \n",
    "    # Filter only .jpg files (case-insensitive)\n",
    "    jpg_files = [file for file in all_files if file.lower().endswith('.jpg')]\n",
    "    \n",
    "    # Load each image using Pillow and append to the array\n",
    "    for file in jpg_files:\n",
    "        file_path = os.path.join(image_dir, file)\n",
    "        try:\n",
    "            img = Image.open(file_path).convert(\"RGB\")  # Ensure images are in RGB format\n",
    "            images.append(img)\n",
    "        except Exception as e:\n",
    "            print(f\"Error loading image {file_path}: {e}\")\n",
    "\n",
    "    print(f\"Loaded {len(images)} images into the array.\")"
   ]
  },
  {
   "cell_type": "code",
   "execution_count": 9,
   "metadata": {},
   "outputs": [
    {
     "name": "stderr",
     "output_type": "stream",
     "text": [
      "Preprocessing images: 100%|██████████| 42479/42479 [00:00<00:00, 8533446.99it/s]\n"
     ]
    },
    {
     "ename": "",
     "evalue": "",
     "output_type": "error",
     "traceback": [
      "\u001b[1;31mThe Kernel crashed while executing code in the current cell or a previous cell. \n",
      "\u001b[1;31mPlease review the code in the cell(s) to identify a possible cause of the failure. \n",
      "\u001b[1;31mClick <a href='https://aka.ms/vscodeJupyterKernelCrash'>here</a> for more info. \n",
      "\u001b[1;31mView Jupyter <a href='command:jupyter.viewOutput'>log</a> for further details."
     ]
    }
   ],
   "source": [
    "from transformers import CLIPModel, CLIPProcessor\n",
    "from tqdm import tqdm\n",
    "\n",
    "# Load the CLIP model and processor\n",
    "model = CLIPModel.from_pretrained(\"laion/CLIP-ViT-H-14-laion2B-s32B-b79K\")\n",
    "processor = CLIPProcessor.from_pretrained(\"laion/CLIP-ViT-H-14-laion2B-s32B-b79K\")\n",
    "\n",
    "# Define the classes (supercategories)\n",
    "classes = [\n",
    "    \"ANTONY OF PADUA\",\n",
    "    \"JOHN THE BAPTIST\",\n",
    "    \"PAUL\",\n",
    "    \"FRANCIS\",\n",
    "    \"MARY MAGDALENE\",\n",
    "    \"JEROME\",\n",
    "    \"DOMINIC\",\n",
    "    \"MARY\",\n",
    "    \"PETER\",\n",
    "    \"SEBASTIAN\"\n",
    "]\n",
    "\n",
    "# Preprocess the images and text\n",
    "inputs = processor(\n",
    "    text=classes,\n",
    "    images=[image for image in tqdm(images, desc=\"Preprocessing images\")],\n",
    "    return_tensors=\"pt\",\n",
    "    padding=True,\n",
    "    do_convert_rgb=False  \n",
    ")\n",
    "\n",
    "# Get model outputs\n",
    "outputs = model(**inputs)\n",
    "logits_per_image = outputs.logits_per_image  # Image-text similarity scores\n",
    "probs = logits_per_image.softmax(dim=1)  # Get label probabilities\n",
    "\n",
    "print(probs)"
   ]
  }
 ],
 "metadata": {
  "kernelspec": {
   "display_name": ".venv",
   "language": "python",
   "name": "python3"
  },
  "language_info": {
   "codemirror_mode": {
    "name": "ipython",
    "version": 3
   },
   "file_extension": ".py",
   "mimetype": "text/x-python",
   "name": "python",
   "nbconvert_exporter": "python",
   "pygments_lexer": "ipython3",
   "version": "3.12.7"
  }
 },
 "nbformat": 4,
 "nbformat_minor": 2
}
