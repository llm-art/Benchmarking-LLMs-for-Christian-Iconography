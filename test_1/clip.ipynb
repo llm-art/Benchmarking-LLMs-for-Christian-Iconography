{
 "cells": [
  {
   "cell_type": "markdown",
   "metadata": {},
   "source": [
    "Load images with Pillow"
   ]
  },
  {
   "cell_type": "code",
   "execution_count": 2,
   "metadata": {},
   "outputs": [
    {
     "name": "stdout",
     "output_type": "stream",
     "text": [
      "Loaded 1864 images\n"
     ]
    }
   ],
   "source": [
    "import os\n",
    "from PIL import Image\n",
    "\n",
    "# Open test.txt and read the lines\n",
    "with open(os.path.join(os.pardir, '2_test.txt'), 'r') as file:\n",
    "  test_items = file.read().splitlines()\n",
    "\n",
    "images = []\n",
    "\n",
    "for item in test_items:\n",
    "  image_path = os.path.join(os.pardir,'dataset', 'ArtDL', 'JPEGImages', f\"{item}.jpg\")\n",
    "  try:\n",
    "    image = Image.open(image_path)\n",
    "    images.append(image)\n",
    "  except Exception as e:\n",
    "    print(f\"Error loading image {image_path}: {e}\")\n",
    "\n",
    "print(f\"Loaded {len(images)} images\")\n"
   ]
  },
  {
   "cell_type": "markdown",
   "metadata": {},
   "source": [
    "Test CLIP with these models:\n",
    "\n",
    "* openai/clip-vit-base-patch32\n",
    "* openai/clip-vit-base-patch16\n",
    "* openai/clip-vit-large-patch14\n",
    "\n",
    "\n",
    "Process the images and see their probability against classes.\n",
    "Use small batches (16 images)"
   ]
  },
  {
   "cell_type": "code",
   "execution_count": 3,
   "metadata": {},
   "outputs": [
    {
     "name": "stderr",
     "output_type": "stream",
     "text": [
      "/Users/gspinaci/projects/llm-art/LLM-test/.venv/lib/python3.12/site-packages/tqdm/auto.py:21: TqdmWarning: IProgress not found. Please update jupyter and ipywidgets. See https://ipywidgets.readthedocs.io/en/stable/user_install.html\n",
      "  from .autonotebook import tqdm as notebook_tqdm\n"
     ]
    },
    {
     "name": "stdout",
     "output_type": "stream",
     "text": [
      "Number of images: 1864\n"
     ]
    },
    {
     "name": "stderr",
     "output_type": "stream",
     "text": [
      "Processing Images: 100%|██████████| 1864/1864 [00:36<00:00, 50.61image/s]"
     ]
    },
    {
     "name": "stdout",
     "output_type": "stream",
     "text": [
      "Probabilities shape: torch.Size([1864, 10])\n"
     ]
    },
    {
     "name": "stderr",
     "output_type": "stream",
     "text": [
      "\n"
     ]
    }
   ],
   "source": [
    "from transformers import AutoProcessor, AutoModelForZeroShotImageClassification\n",
    "from tqdm import tqdm\n",
    "import pandas as pd\n",
    "import torch\n",
    "import os\n",
    "\n",
    "os.environ[\"TOKENIZERS_PARALLELISM\"] = \"false\"\n",
    "os.environ[\"PYDEVD_DISABLE_FILE_VALIDATION\"] = \"true\"\n",
    "\n",
    "model_name = \"clip-vit-base-patch32\"\n",
    "#model_name = \"clip-vit-base-patch16\"\n",
    "#model_name = \"clip-vit-large-patch14\"\n",
    "\n",
    "print(f\"Number of images: {len(images)}\")\n",
    "\n",
    "# Load the model and processor\n",
    "processor = AutoProcessor.from_pretrained(f'openai/{model_name}')\n",
    "model = AutoModelForZeroShotImageClassification.from_pretrained(f'openai/{model_name}')\n",
    "\n",
    "# Load classes\n",
    "with open(os.path.join(os.pardir, 'classes_desc.txt'), 'r') as f:\n",
    "  classes = [tuple(line.strip().split(',')) for line in f]\n",
    "\n",
    "# Break images into smaller batches\n",
    "batch_size = 16\n",
    "images_batches = [images[i:i + batch_size] for i in range(0, len(images), batch_size)]\n",
    "\n",
    "all_probs = []\n",
    "with tqdm(total=len(images), desc=\"Processing Images\", unit=\"image\") as pbar:\n",
    "    for batch_index, batch in enumerate(images_batches):\n",
    "        try:\n",
    "            # Process the batch\n",
    "            inputs = processor(text=[cls[1] for cls in classes], images=batch, return_tensors=\"pt\", padding=True)\n",
    "            outputs = model(**inputs)\n",
    "            \n",
    "            # Get probabilities for the batch\n",
    "            logits_per_image = outputs.logits_per_image  \n",
    "            batch_probs = logits_per_image.softmax(dim=1)\n",
    "            all_probs.append(batch_probs.detach())\n",
    "            \n",
    "            pbar.update(len(batch))\n",
    "        except Exception as e:\n",
    "            print(f\"Error processing batch {batch_index + 1}: {e}\")\n",
    "            pbar.update(len(batch))\n",
    "\n",
    "# Get one tensor with all the probabilities\n",
    "all_probs = torch.cat(all_probs, dim=0)\n",
    "print(f\"Probabilities shape: {all_probs.shape}\")\n",
    "\n",
    "# Convert all_probs to a DataFrame and store it as a CSV file\n",
    "all_probs_df = pd.DataFrame(all_probs.numpy())\n",
    "torch.save(all_probs, os.path.join(os.curdir, model_name, 'probs.pt'))"
   ]
  }
 ],
 "metadata": {
  "kernelspec": {
   "display_name": ".venv",
   "language": "python",
   "name": "python3"
  },
  "language_info": {
   "codemirror_mode": {
    "name": "ipython",
    "version": 3
   },
   "file_extension": ".py",
   "mimetype": "text/x-python",
   "name": "python",
   "nbconvert_exporter": "python",
   "pygments_lexer": "ipython3",
   "version": "3.12.7"
  }
 },
 "nbformat": 4,
 "nbformat_minor": 2
}
